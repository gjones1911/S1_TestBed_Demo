{
 "cells": [
  {
   "cell_type": "code",
   "execution_count": 1,
   "id": "4f19315e-e009-406a-b5e5-6ff3b4c1bc15",
   "metadata": {},
   "outputs": [],
   "source": [
    "import warnings\n",
    "warnings.filterwarnings('ignore')\n"
   ]
  },
  {
   "cell_type": "code",
   "execution_count": 2,
   "id": "ad73ac62-7b70-4385-9f1b-29f796ad8d87",
   "metadata": {},
   "outputs": [],
   "source": [
    "# - simu one sec data streaming"
   ]
  },
  {
   "cell_type": "code",
   "execution_count": 3,
   "id": "3a7c47d3-c738-489f-9c38-5f9b685cc2ae",
   "metadata": {},
   "outputs": [
    {
     "name": "stdout",
     "output_type": "stream",
     "text": [
      "Running on local URL:  http://127.0.0.1:7860\n",
      "IMPORTANT: You are using gradio version 4.36.1, however version 4.44.1 is available, please upgrade.\n",
      "--------\n",
      "Running on public URL: https://e89ebc58abab303c07.gradio.live\n",
      "\n",
      "This share link expires in 72 hours. For free permanent hosting and GPU upgrades, run `gradio deploy` from Terminal to deploy to Spaces (https://huggingface.co/spaces)\n"
     ]
    },
    {
     "data": {
      "text/html": [
       "<div><iframe src=\"https://e89ebc58abab303c07.gradio.live\" width=\"100%\" height=\"500\" allow=\"autoplay; camera; microphone; clipboard-read; clipboard-write;\" frameborder=\"0\" allowfullscreen></iframe></div>"
      ],
      "text/plain": [
       "<IPython.core.display.HTML object>"
      ]
     },
     "metadata": {},
     "output_type": "display_data"
    },
    {
     "data": {
      "text/plain": []
     },
     "execution_count": 3,
     "metadata": {},
     "output_type": "execute_result"
    }
   ],
   "source": [
    "import gradio as gr\n",
    "import pandas as pd\n",
    "import numpy as np\n",
    "import seaborn as sns\n",
    "import matplotlib.pyplot as plt\n",
    "import matplotlib.dates as mdates  # For datetime formatting on the x-axis\n",
    "import time\n",
    "import threading\n",
    "import datetime\n",
    "\n",
    "# Initialize an empty DataFrame\n",
    "data = pd.DataFrame(columns=[\"Time\", \"Value\"])\n",
    "\n",
    "# Define constraints\n",
    "max_points = 100  # Maximum number of points to keep\n",
    "y_min, y_max = -3, 3  # Fixed Y-axis range\n",
    "\n",
    "# Thread lock to prevent race conditions\n",
    "data_lock = threading.Lock()\n",
    "\n",
    "# Function to simulate an incoming data stream\n",
    "def generate_data():\n",
    "    global data\n",
    "    last_time = None  # Track last inserted time\n",
    "    \n",
    "    while True:\n",
    "        with data_lock:\n",
    "            new_time = datetime.datetime.now().replace(microsecond=0)  # Remove microseconds\n",
    "            \n",
    "            # Ensure we only add ONE point per second\n",
    "            if new_time == last_time:\n",
    "                time.sleep(0.1)  # Short wait to recheck\n",
    "                continue  \n",
    "            \n",
    "            last_time = new_time  # Update last added time\n",
    "            new_value = np.random.uniform(y_min, y_max)  # Generate a random value\n",
    "\n",
    "            # Create new entry\n",
    "            new_entry = pd.DataFrame({\"Time\": [new_time], \"Value\": [new_value]})\n",
    "\n",
    "            # Append new data point and enforce max row count\n",
    "            data = pd.concat([data, new_entry], ignore_index=True).iloc[-max_points:]\n",
    "\n",
    "            # Print the latest row and correct total row count\n",
    "            # print(f\"Added: {new_entry.iloc[0].to_dict()} | Total Rows: {len(data)}\")\n",
    "\n",
    "        time.sleep(1)  # Wait exactly 1 second before adding the next point\n",
    "\n",
    "# Start data generation in a separate thread (ONLY ONCE)\n",
    "if not hasattr(generate_data, \"started\"):\n",
    "    threading.Thread(target=generate_data, daemon=True).start()\n",
    "    generate_data.started = True\n",
    "\n",
    "# Function to plot data smoothly\n",
    "def plot_data():\n",
    "    global data\n",
    "    while True:\n",
    "        plt.figure(figsize=(8, 4))\n",
    "        \n",
    "        if not data.empty:\n",
    "            # Define the x-axis window anchored to the current time.\n",
    "            # This window will always span the last (max_points-1) seconds.\n",
    "            current_time = datetime.datetime.now()\n",
    "            window = datetime.timedelta(seconds=max_points - 1)\n",
    "            plt.xlim(current_time - window, current_time)\n",
    "            plt.ylim(y_min, y_max)\n",
    "            \n",
    "            sns.lineplot(x=\"Time\", y=\"Value\", data=data, marker=\"o\", color=\"b\")\n",
    "            \n",
    "            # Format x-axis ticks as HH:MM:SS\n",
    "            plt.xticks(rotation=45)\n",
    "            ax = plt.gca()\n",
    "            ax.xaxis.set_major_formatter(mdates.DateFormatter(\"%H:%M:%S\"))\n",
    "        \n",
    "        plt.xlabel(\"Time (HH:MM:SS)\")\n",
    "        plt.ylabel(\"Value\")\n",
    "        plt.title(\"Real-time Data Stream (Simulated)\")\n",
    "        plt.grid()\n",
    "        plt.tight_layout()\n",
    "        \n",
    "        fig = plt.gcf()\n",
    "        yield fig  # Yield the updated figure\n",
    "        \n",
    "        plt.close(fig)\n",
    "        time.sleep(1)\n",
    "\n",
    "# Gradio interface with live updates\n",
    "iface = gr.Interface(fn=plot_data, inputs=[], outputs=\"plot\", live=True)\n",
    "iface.launch(share=True)\n"
   ]
  },
  {
   "cell_type": "code",
   "execution_count": null,
   "id": "b4aa9355-c33a-49bb-8b59-a748c88a8955",
   "metadata": {},
   "outputs": [],
   "source": []
  }
 ],
 "metadata": {
  "kernelspec": {
   "display_name": ".envgpu",
   "language": "python",
   "name": ".envgpu"
  },
  "language_info": {
   "codemirror_mode": {
    "name": "ipython",
    "version": 3
   },
   "file_extension": ".py",
   "mimetype": "text/x-python",
   "name": "python",
   "nbconvert_exporter": "python",
   "pygments_lexer": "ipython3",
   "version": "3.10.12"
  }
 },
 "nbformat": 4,
 "nbformat_minor": 5
}
